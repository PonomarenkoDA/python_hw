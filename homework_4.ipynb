{
 "cells": [
  {
   "cell_type": "markdown",
   "metadata": {},
   "source": [
    "Упражнение 1. \n",
    "Создайте класс Point, экземпляры которого будут создаваться из координат x и y."
   ]
  },
  {
   "cell_type": "code",
   "execution_count": 1,
   "metadata": {},
   "outputs": [
    {
     "name": "stdout",
     "output_type": "stream",
     "text": [
      "Это точка с координатами 1 и 2\n",
      "\n",
      " ['__class__', '__delattr__', '__dict__', '__dir__', '__doc__', '__eq__', '__format__', '__ge__', '__getattribute__', '__gt__', '__hash__', '__init__', '__init_subclass__', '__le__', '__lt__', '__module__', '__ne__', '__new__', '__reduce__', '__reduce_ex__', '__repr__', '__setattr__', '__sizeof__', '__str__', '__subclasshook__', '__weakref__', 'x', 'y']\n"
     ]
    }
   ],
   "source": [
    "class Point:\n",
    "    def __init__(self, x, y):\n",
    "        self.x = x\n",
    "        self.y = y\n",
    "\n",
    "    def __str__(self):\n",
    "        return f'Это точка с координатами {self.x} и {self.y}'\n",
    "\n",
    "if __name__ == \"__main__\":\n",
    "\n",
    "    p = Point(1, 2)\n",
    "    print(p)\n",
    "    print('\\n', dir(p))"
   ]
  },
  {
   "cell_type": "markdown",
   "metadata": {},
   "source": [
    "Упражнение 2. \n",
    "Создайте класс прямоугольник — Rectangle. Метод __init__ принимает две точки — левый нижний и правый верхний угол. Каждая точка представлена экземпляром класса Point. Реализуйте методы вычисления площади и периметра прямоугольника.\n"
   ]
  },
  {
   "cell_type": "code",
   "execution_count": 2,
   "metadata": {},
   "outputs": [
    {
     "name": "stdout",
     "output_type": "stream",
     "text": [
      "Сверху: координаты x=7 y=4\n",
      "Снизу: координаты x=3 y=2\n",
      "Площадь: 8\n",
      "Периметр: 12\n"
     ]
    }
   ],
   "source": [
    "class Point:\n",
    "    def __init__(self, x, y):\n",
    "        self.x = x\n",
    "        self.y = y\n",
    "    def __str__(self):\n",
    "        return f'координаты x={self.x} y={self.y}'\n",
    "\n",
    "class Rectangle:\n",
    "    def __init__(self, right_high, left_down):\n",
    "        self.a = abs(right_high.x - left_down.x)\n",
    "        self.b = abs(right_high.y - left_down.y)\n",
    "\n",
    "    def area(self):\n",
    "        if self.a != 0 and self.b != 0:\n",
    "            return self.a * self.b\n",
    "        else:\n",
    "            return 'Координаты не верны'\n",
    "\n",
    "    def perimetr(self):\n",
    "        if self.a != 0 and self.b != 0:\n",
    "            return 2 * (self.a + self.b)\n",
    "        else:\n",
    "            return 'Координаты не верны'\n",
    "\n",
    "\n",
    "if __name__ == \"__main__\":\n",
    "    right_high = Point(7, 4)\n",
    "    left_down = Point(3, 2)\n",
    "\n",
    "    rectangle = Rectangle(right_high, left_down)\n",
    "\n",
    "    print(f'Сверху: {right_high}\\nСнизу: {left_down}')\n",
    "    print(f'Площадь: {rectangle.area()}')\n",
    "    print(f'Периметр: {rectangle.perimetr()}')"
   ]
  },
  {
   "cell_type": "markdown",
   "metadata": {},
   "source": [
    "Упражнение 3. \n",
    "Добавьте в класс Rectangle метод contains. Метод принимает точку и возвращает True, если точка находится внутри прямоугольника и False в противном случае."
   ]
  },
  {
   "cell_type": "code",
   "execution_count": 3,
   "metadata": {},
   "outputs": [
    {
     "name": "stdout",
     "output_type": "stream",
     "text": [
      "Сверху: координаты x=7 y=4\n",
      "Снизу: координаты x=3 y=2\n",
      "Площадь: 8\n",
      "Периметр: 12\n",
      "\n",
      "Новая: координаты x=7 y=10\n",
      "Наша точка внутри прямоугольника: False\n"
     ]
    }
   ],
   "source": [
    "class Point:\n",
    "    def __init__(self, x, y):\n",
    "        self.x = x\n",
    "        self.y = y\n",
    "    def __str__(self):\n",
    "        return f'координаты x={self.x} y={self.y}'\n",
    "\n",
    "class Rectangle:\n",
    "    def __init__(self, right_high, left_down):\n",
    "        self.right_high = right_high\n",
    "        self.left_down = left_down\n",
    "        self.a = abs(right_high.x - left_down.x)\n",
    "        self.b = abs(right_high.y - left_down.y)\n",
    "\n",
    "    def area(self):\n",
    "        if self.a != 0 or self.b != 0:\n",
    "            return self.a * self.b\n",
    "        else:\n",
    "            return 'Координаты не верны'\n",
    "\n",
    "    def perimetr(self):\n",
    "        if self.a != 0 and self.b != 0:\n",
    "            return 2 * (self.a + self.b)\n",
    "        else:\n",
    "            return 'Координаты не верны'\n",
    "\n",
    "    def contains(self, my_point: 'Point'):\n",
    "        if right_high.x > my_point.x > left_down.x and right_high.y > my_point.y > left_down.y :\n",
    "            return True\n",
    "        else:\n",
    "            return False\n",
    "\n",
    "if __name__ == \"__main__\":\n",
    "    right_high = Point(7, 4)\n",
    "    left_down = Point(3, 2)\n",
    "\n",
    "    rectangle = Rectangle(right_high, left_down)\n",
    "\n",
    "    print(f'Сверху: {right_high}\\nСнизу: {left_down}')\n",
    "    print(f'Площадь: {rectangle.area()}')\n",
    "    print(f'Периметр: {rectangle.perimetr()}')\n",
    "\n",
    "    my_point = Point(7, 10)\n",
    "    print('\\nНовая:', my_point)\n",
    "    print(f'Наша точка внутри прямоугольника: {rectangle.contains(my_point)}')"
   ]
  },
  {
   "cell_type": "markdown",
   "metadata": {},
   "source": [
    "Упражнение 4. \n",
    "Описать класс десятичного счётчика. Он должен обладать внутренней переменной, хранящей текущее значение, методами повышения значения (increment) и понижения (decrement), получения текущего значения get_counter. Учесть, что счётчик не может опускаться ниже 0."
   ]
  },
  {
   "cell_type": "code",
   "execution_count": 4,
   "metadata": {},
   "outputs": [
    {
     "name": "stdout",
     "output_type": "stream",
     "text": [
      "Текущее значение счетчика: 2\n",
      "Значение после повышения:  3\n",
      "Значение после понижения:  2\n",
      "Значение после понижения:  1\n",
      "Значение после понижения:  0\n",
      "Значение после понижения:  Error (value < 0)\n",
      "Значение после понижения:  Error (value < 0)\n",
      "Значение после повышения:  1\n"
     ]
    }
   ],
   "source": [
    "class CounterMachine:\n",
    "    def __init__(self, current_value):\n",
    "        self.current_value = current_value\n",
    "\n",
    "    def get_counter(self):\n",
    "        return f'Текущее значение счетчика: {self.current_value}'\n",
    "\n",
    "    def increment(self):\n",
    "        if self.current_value < 10:\n",
    "            self.current_value += 1\n",
    "        else:\n",
    "            self.current_value = 0\n",
    "        return self.current_value\n",
    "\n",
    "    def decrement(self):\n",
    "        if self.current_value >= 1:\n",
    "            self.current_value -= 1\n",
    "            return self.current_value\n",
    "        else:\n",
    "            return 'Error (value < 0)'\n",
    "\n",
    "if __name__ == \"__main__\":\n",
    "    counter = CounterMachine(2)\n",
    "    print(counter.get_counter())\n",
    "    print('Значение после повышения: ', counter.increment())\n",
    "    for i in range(5):\n",
    "        print('Значение после понижения: ', counter.decrement())\n",
    "    print('Значение после повышения: ', counter.increment())"
   ]
  },
  {
   "cell_type": "markdown",
   "metadata": {},
   "source": [
    "Упражнение №5.\n",
    "Создать класс для часов. Должна быть возможность установить время при создании объекта. Также необходимо реализовать методы, с помощью которых можно добавлять по одной минуте/секунде или по одному часу к текущему времени. Помнить, что значения минут и секунд не могут превышать 59, а часов 23."
   ]
  },
  {
   "cell_type": "code",
   "execution_count": 5,
   "metadata": {},
   "outputs": [
    {
     "name": "stdout",
     "output_type": "stream",
     "text": [
      "Время: 20 час, 59 минут, 59 секунд\n",
      "Время: 22 час, 1 минут, 0 секунд\n"
     ]
    }
   ],
   "source": [
    "class Timer:\n",
    "    def __init__(self, hour=0, minute=0, second=0):\n",
    "        self.hour = hour\n",
    "        self.minute = minute\n",
    "        self.second = second\n",
    "\n",
    "    def __str__(self):\n",
    "        return f'Время: {self.hour} час, {self.minute} минут, {self.second} секунд'\n",
    "\n",
    "    def plus_hour(self):\n",
    "        if self.hour < 23:\n",
    "            self.hour += 1\n",
    "        else:\n",
    "            self.hour = 0\n",
    "        return self.hour\n",
    "\n",
    "    def plus_minute(self):\n",
    "        if self.minute < 59:\n",
    "            self.minute += 1\n",
    "        else:\n",
    "            self.plus_hour()\n",
    "            self.minute = 0\n",
    "            return self.minute\n",
    "\n",
    "    def plus_second(self):\n",
    "        if self.second < 59:\n",
    "            self.second += 1\n",
    "        else:\n",
    "            self.plus_minute()\n",
    "            self.second = 0\n",
    "            return self.second\n",
    "\n",
    "if __name__ == \"__main__\":\n",
    "    fst_time = Timer(20, 59, 59)\n",
    "    print(fst_time)\n",
    "    fst_time.plus_second()\n",
    "    fst_time.plus_hour()\n",
    "    fst_time.plus_minute()\n",
    "    print(fst_time)"
   ]
  },
  {
   "cell_type": "markdown",
   "metadata": {},
   "source": [
    "Упражнение 6.\n",
    "Доработать предыдущую задачу, чтобы можно было складывать двое часов друг с другом. Для перегрузки оператора + использовать метод __add__(self, other)."
   ]
  },
  {
   "cell_type": "code",
   "execution_count": 6,
   "metadata": {},
   "outputs": [
    {
     "name": "stdout",
     "output_type": "stream",
     "text": [
      "Время: 20h: 35m: 50s\n",
      "Время: 10h: 24m: 11s\n",
      "\n",
      "Общее время: 07h: 00m: 01s\n"
     ]
    }
   ],
   "source": [
    "class Timer:\n",
    "    def __init__(self, hour=0, minute=0, second=0):\n",
    "        self.hour = hour\n",
    "        self.minute = minute\n",
    "        self.second = second\n",
    "\n",
    "    def __str__(self):\n",
    "        return f\"Время: {self.hour:02}h: {self.minute:02}m: {self.second:02}s\" \n",
    "\n",
    "    def __add__(self, other:'Timer'):\n",
    "        self.hour  = (self.hour + other.hour) % 24\n",
    "\n",
    "        sum_minute = self.minute + other.minute\n",
    "        self.minute = sum_minute % 60\n",
    "\n",
    "        sum_second = self.second + other.second\n",
    "        self.second = sum_second % 60\n",
    "\n",
    "        if sum_minute >= 60:\n",
    "            self.plus_hour()\n",
    "        if sum_second >= 60:\n",
    "            self.plus_minute()\n",
    "        return f'\\nОбщее время: {self.hour:02}h: {self.minute:02}m: {self.second:02}s'\n",
    "\n",
    "    def plus_hour(self):\n",
    "        if self.hour < 23:\n",
    "            self.hour += 1\n",
    "        else:\n",
    "            self.hour = 0\n",
    "        return self.hour\n",
    "\n",
    "    def plus_minute(self):\n",
    "        if self.minute < 59:\n",
    "            self.minute += 1\n",
    "        else:\n",
    "            self.plus_hour()\n",
    "            self.minute = 0\n",
    "            return self.minute\n",
    "\n",
    "    def plus_second(self):\n",
    "        if self.second < 59:\n",
    "            self.second += 1\n",
    "        else:\n",
    "            self.plus_minute()\n",
    "            self.second = 0\n",
    "            return self.second\n",
    "\n",
    "if __name__ == \"__main__\":\n",
    "    fst_time = Timer(20, 35, 50)\n",
    "    scd_time = Timer(10, 24, 11)\n",
    "    print(fst_time)\n",
    "    print(scd_time)\n",
    "\n",
    "    print(fst_time + scd_time)"
   ]
  },
  {
   "cell_type": "markdown",
   "metadata": {},
   "source": [
    "**Примечание:** здесь учитывал, что при сложении время не должно превышать границы допустимого по условию прошлой задачи."
   ]
  },
  {
   "cell_type": "markdown",
   "metadata": {},
   "source": [
    "Упражнение 7. \n",
    "Создать классы для травоядного животного и травы. Животное должно уметь поедать траву, если испытывает голод, в противном случае отказываться от лакомства. Трава должна обладать питательностью, в зависимости от которой животное будет насыщаться.\n"
   ]
  },
  {
   "cell_type": "code",
   "execution_count": 7,
   "metadata": {},
   "outputs": [
    {
     "name": "stdout",
     "output_type": "stream",
     "text": [
      "Трава имеет питательность 25 Ккал\n",
      "Животное сейчас сыто на 25 из 100\n",
      "\n",
      "Процесс поедания травы ... \n",
      "Показатель сытости животного 50 из 100\n",
      "Показатель сытости животного 75 из 100\n",
      "Показатель сытости животного 100 из 100\n",
      "\n",
      "Животное наелось и отказывается от лакомства\n"
     ]
    }
   ],
   "source": [
    "class Grass:\n",
    "    def __init__(self):\n",
    "        self.calories = 25\n",
    "\n",
    "    def __str__(self):\n",
    "        return f'Трава имеет питательность {self.calories} Ккал'\n",
    "\n",
    "class GrassFeedAnimal:\n",
    "    def __init__(self, full_mark):\n",
    "        self.full_mark = full_mark\n",
    "\n",
    "    def __str__(self):\n",
    "        return f'Животное сейчас сыто на {self.full_mark} из 100'\n",
    "\n",
    "    def eating_grass(self, eat:'Grass'):\n",
    "        self.full_mark += eat.calories\n",
    "        if self.full_mark <= 100:\n",
    "            return f'Показатель сытости животного {self.full_mark} из 100'\n",
    "        else:\n",
    "            return f'\\nЖивотное наелось и отказывается от лакомства'\n",
    "\n",
    "if __name__ == \"__main__\":\n",
    "    some_grass = Grass()\n",
    "    print(some_grass)\n",
    "    animal = GrassFeedAnimal(25)\n",
    "    print(animal)\n",
    "    print('\\nПроцесс поедания травы ... ')\n",
    "    for i in range(4):\n",
    "        print(animal.eating_grass(some_grass))"
   ]
  },
  {
   "cell_type": "markdown",
   "metadata": {},
   "source": [
    "Упражнение 8. Для одной задачи необходимо реализовать следующее - при соединении двух элементов получается новый. У нас есть 4 базовых элемента: Вода, Воздух, Огонь, Земля. Из них как раз и получаются новые: Шторм, Пар, Грязь, Молния, Пыль, Лава.\n",
    "Вот таблица преобразований:\n",
    "- Вода + Воздух = Шторм\n",
    "- Вода + Огонь = Пар\n",
    "- Вода + Земля = Грязь\n",
    "- Воздух + Огонь = Молния\n",
    "- Воздух + Земля = Пыль\n",
    "- Огонь + Земля = Лава\n",
    "\n",
    "Напишите программу, которая реализует все эти элементы. Каждый элемент необходимо организовать как отдельный класс. Если результат не определен - то возвращается None. <br/>\n",
    "**Примечание**: сложение объектов можно реализовывать через магический метод __add__. <br/>\n",
    "**Дополнительно**: придумайте свой элемент (или элементы), а также реализуйте его взаимодействие с остальными элементами\n",
    "- Песок + Огонь = Стекло\n",
    "- Песок + Вода = Грязная вода"
   ]
  },
  {
   "cell_type": "code",
   "execution_count": 9,
   "metadata": {},
   "outputs": [
    {
     "name": "stdout",
     "output_type": "stream",
     "text": [
      "Это класс стекло\n"
     ]
    }
   ],
   "source": [
    "class Earth:\n",
    "    def __add__(self, other):\n",
    "        if isinstance(other, Air):\n",
    "            return Dust()\n",
    "        elif isinstance(other, Water):\n",
    "            return Dirty()\n",
    "        elif isinstance(other, Fire):\n",
    "            return Lava()\n",
    "        else:\n",
    "            return None\n",
    "\n",
    "class Air:\n",
    "    def __add__(self, other):\n",
    "        if isinstance(other, Water):\n",
    "            return Storm()\n",
    "        elif isinstance(other, Fire):\n",
    "            return Lightning()\n",
    "        elif isinstance(other, Earth):\n",
    "            return Dust()\n",
    "        else:\n",
    "            return None\n",
    "\n",
    "class Water:\n",
    "    def __add__(self, other):\n",
    "        if isinstance(other, Air):\n",
    "            return Storm()\n",
    "        elif isinstance(other, Fire):\n",
    "            return Steam()\n",
    "        elif isinstance(other, Earth):\n",
    "            return Dirty()\n",
    "        elif isinstance(other, Sand):\n",
    "            return DirtyWater()\n",
    "        else:\n",
    "            return None\n",
    "\n",
    "class Fire:\n",
    "    def __add__(self, other):\n",
    "        if isinstance(other, Water):\n",
    "            return Steam()\n",
    "        elif isinstance(other, Air):\n",
    "            return Lightning()\n",
    "        elif isinstance(other, Earth):\n",
    "            return Lava()\n",
    "        elif isinstance(other, Sand):\n",
    "            return Glass()\n",
    "        else:\n",
    "            return None\n",
    "\n",
    "class Sand:\n",
    "    def __add__(self, other):\n",
    "        if isinstance(other, Water):\n",
    "            return DirtyWater()\n",
    "        elif isinstance(other, Fire):\n",
    "            return Glass()\n",
    "        else:\n",
    "            return None\n",
    "\n",
    "class DirtyWater:\n",
    "    def __str__(self):\n",
    "        return 'Это класс грязная вода'\n",
    "\n",
    "class Glass:\n",
    "    def __str__(self):\n",
    "        return 'Это класс стекло'\n",
    "class Dust:\n",
    "    def __str__(self):\n",
    "        return 'Это класс пыль'\n",
    "\n",
    "class Storm:\n",
    "    def __str__(self):\n",
    "        return 'Это класс шторм'\n",
    "\n",
    "class Steam:\n",
    "    def __str__(self):\n",
    "        return 'Это класс пар'\n",
    "\n",
    "class Lightning:\n",
    "    def __str__(self):\n",
    "        return 'Это класс молния'\n",
    "\n",
    "class Dirty:\n",
    "    def __str__(self):\n",
    "        return 'Это класс грязь'\n",
    "\n",
    "class Lava:\n",
    "    def __str__(self):\n",
    "        return 'Это класс лава'\n",
    "\n",
    "a = Sand()\n",
    "b = Fire()\n",
    "c = a + b\n",
    "print(c)"
   ]
  },
  {
   "cell_type": "code",
   "execution_count": null,
   "metadata": {},
   "outputs": [],
   "source": []
  },
  {
   "cell_type": "code",
   "execution_count": null,
   "metadata": {},
   "outputs": [],
   "source": []
  }
 ],
 "metadata": {
  "kernelspec": {
   "display_name": "Python 3",
   "language": "python",
   "name": "python3"
  },
  "language_info": {
   "codemirror_mode": {
    "name": "ipython",
    "version": 3
   },
   "file_extension": ".py",
   "mimetype": "text/x-python",
   "name": "python",
   "nbconvert_exporter": "python",
   "pygments_lexer": "ipython3",
   "version": "3.7.3"
  }
 },
 "nbformat": 4,
 "nbformat_minor": 4
}
